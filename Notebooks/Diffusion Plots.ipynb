{
 "cells": [
  {
   "cell_type": "code",
   "execution_count": 1,
   "id": "d2133832",
   "metadata": {},
   "outputs": [],
   "source": [
    "# This notebook plots predicted concentration gradients for different wounding conditions \n",
    "import sys\n",
    "import os\n",
    "\n",
    "sys.path.append(os.path.abspath('..'))\n",
    "\n",
    "import matplotlib.pyplot as plt\n",
    "import numpy as np\n",
    "import pandas as pd\n",
    "from scipy.special import expi\n",
    "import random\n",
    "#from Utilities.plotting import plot_find_wound_location,plotxy_space_bins,plotxy_time_bins,observed_bias_plotting"
   ]
  },
  {
   "cell_type": "code",
   "execution_count": 2,
   "id": "51d7c74e",
   "metadata": {},
   "outputs": [],
   "source": [
    "# Load inferred parameters for each data type \n",
    "Post_attractant_control = np.load(\"../data/New_data/Attractant_control.npy\", allow_pickle=True)\n",
    "Post_attractant_mcr = np.load(\"../data/New_data/Attractant_post_mcr.npy\", allow_pickle=True)\n",
    "\n",
    "posterior_samples_mcr = Post_attractant_mcr[0].get_chain(discard=5000, thin=10, flat = True)\n",
    "posterior_samples_control = Post_attractant_control[0].get_chain(discard=5000, thin=10, flat = True)"
   ]
  },
  {
   "cell_type": "code",
   "execution_count": 3,
   "id": "33f606e9",
   "metadata": {},
   "outputs": [],
   "source": [
    "# Multiple wound function, using the Exponential Integral\n",
    "def concentration_multiple_sources(x, y, ts, qs, q,D, tau):\n",
    "    concentration_sum = np.zeros_like(x)\n",
    "    \n",
    "    for qx, qy in qs:\n",
    "        r = np.sqrt((x - qx)**2 + (y - qy)**2)\n",
    "        factor = q / (4 * np.pi * D)\n",
    "        \n",
    "        if ts < tau:\n",
    "            concentration_sum += -factor * expi(-r**2 / (4 * D * ts))\n",
    "        else:\n",
    "            concentration_sum += factor * (expi(-r**2 / (4 * D * (ts - tau))) - expi(-r**2 / (4 * D * ts)))\n",
    "    \n",
    "    return concentration_sum\n"
   ]
  },
  {
   "cell_type": "code",
   "execution_count": 4,
   "id": "600f706b",
   "metadata": {},
   "outputs": [],
   "source": [
    "# Circle function for source points\n",
    "def circle(r, thetas):\n",
    "    xs = r * np.cos(thetas)\n",
    "    ys = r * np.sin(thetas)\n",
    "    return xs, ys  # Returning xs and ys as a tuple\n",
    "\n",
    "# Example usage:\n",
    "import matplotlib.pyplot as plt\n",
    "\n",
    "# Create an array of angles from 0 to π (180 degrees)\n",
    "theta = np.linspace(0, np.pi, 10)\n",
    "\n",
    "# Define the radius of the circle\n",
    "radius = 5.0\n",
    "\n",
    "# Calculate the x and y coordinates for points on the half-circle\n",
    "xs, ys = circle(radius, theta)\n",
    "\n",
    "def location_of_sources(halfwound_on):\n",
    "    if halfwound_on == True:\n",
    "        qs = [(xs[i],ys[i]) for i in range(len(xs))]\n",
    "        return qs\n",
    "    else:\n",
    "        qs = [(0, 25), (0, -25)]\n",
    "        return qs"
   ]
  },
  {
   "cell_type": "code",
   "execution_count": 18,
   "id": "933acd08",
   "metadata": {},
   "outputs": [],
   "source": [
    "# extract mean parameters from Posterior distributions, i.e. Diffusion coefficient, flow rate, tau \n",
    "D_mean_control = np.mean(posterior_samples_control[:,1])\n",
    "q_mean_control = np.mean(posterior_samples_control[:,0]) \n",
    "tau_mean_control = np.mean(posterior_samples_control[:,2]) \n",
    "\n",
    "D_mean_mcr = np.mean(posterior_samples_mcr[:,1])\n",
    "q_mean_mcr = np.mean(posterior_samples_mcr[:,0]) \n",
    "tau_mean_mcr = np.mean(posterior_samples_mcr[:,2]) "
   ]
  },
  {
   "cell_type": "code",
   "execution_count": 23,
   "metadata": {},
   "outputs": [
    {
     "data": {
      "text/plain": [
       "(394.89495145898155, 0.5567590622326513, 19.13326776868955)"
      ]
     },
     "execution_count": 23,
     "metadata": {},
     "output_type": "execute_result"
    }
   ],
   "source": [
    "D_mean_control, q_mean_control, tau_mean_control"
   ]
  },
  {
   "cell_type": "code",
   "execution_count": 22,
   "id": "87bb9c9c",
   "metadata": {},
   "outputs": [
    {
     "data": {
      "image/png": "[encoded data removed]",
      "text/plain": [
       "<Figure size 432x288 with 2 Axes>"
      ]
     },
     "metadata": {
      "needs_background": "light"
     },
     "output_type": "display_data"
    }
   ],
   "source": [
    "# Produce heatmap of chemoattractant concentration \n",
    "\n",
    "# Half wound on or off, if off two wounds are plotted instead\n",
    "\n",
    "halfwound_on = True\n",
    "L = 50 # sets the range of plot from -L to L\n",
    "# Define the grid \n",
    "x = np.linspace(-L, L, 1000)\n",
    "y = np.linspace(-L, L, 1000)\n",
    "X, Y = np.meshgrid(x, y)\n",
    "\n",
    "# Define the positions of the point sources\n",
    "if halfwound_on == True:\n",
    "    qs = [(xs[i],ys[i]) for i in range(len(xs))]\n",
    "    q_mean_control = q_mean_control / len(xs)\n",
    "else:\n",
    "    qs = [(0, 25), (0, -25)]\n",
    "    q_mean_control = q_mean_control / len(qs)\n",
    "# Set the values of ts, D, and tau\n",
    "ts = 20 # current time - min\n",
    "# tau = 18 # production time up to - mins \n",
    "\n",
    "# Calculate the concentration at each point in the grid\n",
    "concentration = concentration_multiple_sources(X, Y, ts, qs, q_mean_control,D_mean_control, tau_mean_control)\n",
    "levels = np.linspace(concentration.min(),concentration.max(), 20)\n",
    "\n",
    "# plotting \n",
    "\n",
    "fig, ax = plt.subplots(1)\n",
    "ax.set_aspect('equal')\n",
    "\n",
    "im = ax.contourf(X, Y, concentration, levels=levels)\n",
    "\n",
    "ax.set_xlabel('X ($\\mu$m)')\n",
    "ax.set_ylabel('Y ($\\mu$m)')\n",
    "cbar = fig.colorbar(im)\n",
    "cbar.set_label('Concentration')\n",
    "\n",
    "fig.suptitle(f'Concentration at t = {int(ts)} mins')\n",
    "if halfwound_on == True:\n",
    "    plt.savefig(f\"Figures/Half wound concentration at t = {ts}.pdf\")\n",
    "else:\n",
    "    plt.savefig(f\"Figures/Two wound concentration at t = {ts}.pdf\")\n",
    "plt.show()\n"
   ]
  },
  {
   "cell_type": "code",
   "execution_count": 11,
   "id": "6d83ba5c",
   "metadata": {},
   "outputs": [],
   "source": [
    "# next will plot line plots of half wound data\n",
    "concentration_half = concentration_multiple_sources(X, Y, 1, qs, q_mean_control/10,D_mean_control, 18)\n",
    "absolute_concentration_grad = np.absolute(np.gradient(concentration_half))"
   ]
  },
  {
   "cell_type": "code",
   "execution_count": 13,
   "id": "5007ba4d",
   "metadata": {},
   "outputs": [],
   "source": [
    "# plot muliple lines for different samples from the posterior distribution\n",
    "multi_gradients = []\n",
    "for i in range(100):\n",
    "    concentration_half = concentration_multiple_sources(X, Y, 1, qs, q_mean_control/10,random.choice(posterior_samples_control[:,1]), 18)\n",
    "    multi_gradients.append(np.absolute(np.gradient(concentration_half[:,500])))"
   ]
  },
  {
   "cell_type": "code",
   "execution_count": 24,
   "id": "65e0d57a",
   "metadata": {},
   "outputs": [
    {
     "ename": "NameError",
     "evalue": "name 'multi_gradients' is not defined",
     "output_type": "error",
     "traceback": [
      "\u001b[0;31m---------------------------------------------------------------------------\u001b[0m",
      "\u001b[0;31mNameError\u001b[0m                                 Traceback (most recent call last)",
      "\u001b[1;32m/Users/linus/Dropbox/projects/cellMigration/Wood/ImmuneCellMigrationAnalysis/Notebooks/Wound conditions.ipynb Cell 10\u001b[0m line \u001b[0;36m<cell line: 1>\u001b[0;34m()\u001b[0m\n\u001b[0;32m----> <a href='vscode-notebook-cell:/Users/linus/Dropbox/projects/cellMigration/Wood/ImmuneCellMigrationAnalysis/Notebooks/Wound%20conditions.ipynb#X14sZmlsZQ%3D%3D?line=0'>1</a>\u001b[0m \u001b[39mfor\u001b[39;00m i \u001b[39min\u001b[39;00m \u001b[39mrange\u001b[39m(\u001b[39mlen\u001b[39m(multi_gradients)):\n\u001b[1;32m      <a href='vscode-notebook-cell:/Users/linus/Dropbox/projects/cellMigration/Wood/ImmuneCellMigrationAnalysis/Notebooks/Wound%20conditions.ipynb#X14sZmlsZQ%3D%3D?line=1'>2</a>\u001b[0m     plt\u001b[39m.\u001b[39mplot(distance,multi_gradients[i], \u001b[39m'\u001b[39m\u001b[39mr\u001b[39m\u001b[39m'\u001b[39m, alpha \u001b[39m=\u001b[39m \u001b[39m0.1\u001b[39m)\n\u001b[1;32m      <a href='vscode-notebook-cell:/Users/linus/Dropbox/projects/cellMigration/Wood/ImmuneCellMigrationAnalysis/Notebooks/Wound%20conditions.ipynb#X14sZmlsZQ%3D%3D?line=2'>3</a>\u001b[0m plt\u001b[39m.\u001b[39mshow()\n",
      "\u001b[0;31mNameError\u001b[0m: name 'multi_gradients' is not defined"
     ]
    }
   ],
   "source": [
    "for i in range(len(multi_gradients)):\n",
    "    plt.plot(distance,multi_gradients[i], 'r', alpha = 0.1)\n",
    "plt.show()"
   ]
  },
  {
   "cell_type": "code",
   "execution_count": null,
   "id": "26cb6405",
   "metadata": {},
   "outputs": [],
   "source": [
    "# Save data for two wound  "
   ]
  },
  {
   "cell_type": "code",
   "execution_count": 26,
   "id": "e734eba8",
   "metadata": {},
   "outputs": [],
   "source": [
    "qs = location_of_sources(False)\n",
    "\n",
    "concentration_1 = concentration_multiple_sources(X, Y, 1, qs, q_mean_control, D_mean_control, tau_mean_control)\n",
    "concentration_18 = concentration_multiple_sources(X, Y, 18.0001, qs, q_mean_control, D_mean_control, tau_mean_control)\n",
    "concentration_20 = concentration_multiple_sources(X, Y, 20, qs, q_mean_control, D_mean_control, tau_mean_control)\n",
    "\n",
    "tws = {\"1 Minute\":np.gradient(concentration_1[375:625,500]), \"18 Minutes\": np.gradient(concentration_18[375:625,500]), \"20 Minutes\": np.gradient(concentration_20[375:625,500]) }\n",
    "\n",
    "Two_wound = pd.DataFrame(data=tws)\n",
    "\n",
    "Two_wound.to_excel(\"Two_wound_gradients.xlsx\")"
   ]
  },
  {
   "cell_type": "code",
   "execution_count": 27,
   "id": "122ae410",
   "metadata": {},
   "outputs": [
    {
     "ename": "NameError",
     "evalue": "name 'distance' is not defined",
     "output_type": "error",
     "traceback": [
      "\u001b[0;31m---------------------------------------------------------------------------\u001b[0m",
      "\u001b[0;31mNameError\u001b[0m                                 Traceback (most recent call last)",
      "\u001b[1;32m/Users/linus/Dropbox/projects/cellMigration/Wood/ImmuneCellMigrationAnalysis/Notebooks/Wound conditions.ipynb Cell 13\u001b[0m line \u001b[0;36m<cell line: 1>\u001b[0;34m()\u001b[0m\n\u001b[0;32m----> <a href='vscode-notebook-cell:/Users/linus/Dropbox/projects/cellMigration/Wood/ImmuneCellMigrationAnalysis/Notebooks/Wound%20conditions.ipynb#X21sZmlsZQ%3D%3D?line=0'>1</a>\u001b[0m plt\u001b[39m.\u001b[39mplot(distance,np\u001b[39m.\u001b[39mabsolute(np\u001b[39m.\u001b[39mgradient(concentration_1[\u001b[39m375\u001b[39m:\u001b[39m625\u001b[39m,\u001b[39m500\u001b[39m])), label \u001b[39m=\u001b[39m \u001b[39m\"\u001b[39m\u001b[39m1 min\u001b[39m\u001b[39m\"\u001b[39m)\n\u001b[1;32m      <a href='vscode-notebook-cell:/Users/linus/Dropbox/projects/cellMigration/Wood/ImmuneCellMigrationAnalysis/Notebooks/Wound%20conditions.ipynb#X21sZmlsZQ%3D%3D?line=1'>2</a>\u001b[0m plt\u001b[39m.\u001b[39mplot(distance,np\u001b[39m.\u001b[39mabsolute(np\u001b[39m.\u001b[39mgradient(concentration_18[\u001b[39m375\u001b[39m:\u001b[39m625\u001b[39m,\u001b[39m500\u001b[39m])), label \u001b[39m=\u001b[39m \u001b[39m\"\u001b[39m\u001b[39m18 min\u001b[39m\u001b[39m\"\u001b[39m)\n\u001b[1;32m      <a href='vscode-notebook-cell:/Users/linus/Dropbox/projects/cellMigration/Wood/ImmuneCellMigrationAnalysis/Notebooks/Wound%20conditions.ipynb#X21sZmlsZQ%3D%3D?line=2'>3</a>\u001b[0m plt\u001b[39m.\u001b[39mplot(distance,np\u001b[39m.\u001b[39mabsolute(np\u001b[39m.\u001b[39mgradient(concentration_20[\u001b[39m375\u001b[39m:\u001b[39m625\u001b[39m,\u001b[39m500\u001b[39m])), label \u001b[39m=\u001b[39m \u001b[39m\"\u001b[39m\u001b[39m20 min\u001b[39m\u001b[39m\"\u001b[39m)\n",
      "\u001b[0;31mNameError\u001b[0m: name 'distance' is not defined"
     ]
    }
   ],
   "source": [
    "plt.plot(distance,np.absolute(np.gradient(concentration_1[375:625,500])), label = \"1 min\")\n",
    "plt.plot(distance,np.absolute(np.gradient(concentration_18[375:625,500])), label = \"18 min\")\n",
    "plt.plot(distance,np.absolute(np.gradient(concentration_20[375:625,500])), label = \"20 min\")\n",
    "\n",
    "#plt.plot(np.gradient(concentration[350:650,500]))\n",
    "plt.ylim(0,0.2)\n",
    "plt.legend()\n",
    "plt.xlabel(\"distance ($\\mu$m)\")\n",
    "plt.ylabel(\"Concentration gradient\")\n",
    "plt.savefig(\"Two wound predictions.pdf\")\n",
    "plt.show()"
   ]
  },
  {
   "cell_type": "code",
   "execution_count": 28,
   "id": "b4f8baec",
   "metadata": {},
   "outputs": [],
   "source": [
    "qs = location_of_sources(True)\n",
    "concentration_half_1 = concentration_multiple_sources(X, Y, 1, qs, q_mean_control/10, D_mean_control, tau_mean_control)\n",
    "concentration_half_18 = concentration_multiple_sources(X, Y, 18, qs, q_mean_control/10, D_mean_control, tau_mean_control)\n",
    "concentration_half_20 = concentration_multiple_sources(X, Y, 20, qs, q_mean_control/10, D_mean_control, tau_mean_control)\n",
    "\n",
    "c = {'Time = 1': np.absolute(concentration_half_1[:,500]), 'Time = 18': np.absolute(concentration_half_18[:,500]), 'Time = 20':np.absolute(concentration_half_20[:,500])}\n",
    "Concentrations = pd.DataFrame(data=c)"
   ]
  },
  {
   "cell_type": "code",
   "execution_count": null,
   "id": "1da7693c",
   "metadata": {},
   "outputs": [],
   "source": []
  }
 ],
 "metadata": {
  "kernelspec": {
   "display_name": "Python 3",
   "language": "python",
   "name": "python3"
  },
  "language_info": {
   "codemirror_mode": {
    "name": "ipython",
    "version": 3
   },
   "file_extension": ".py",
   "mimetype": "text/x-python",
   "name": "python",
   "nbconvert_exporter": "python",
   "pygments_lexer": "ipython3",
   "version": "3.9.4"
  }
 },
 "nbformat": 4,
 "nbformat_minor": 5
}
