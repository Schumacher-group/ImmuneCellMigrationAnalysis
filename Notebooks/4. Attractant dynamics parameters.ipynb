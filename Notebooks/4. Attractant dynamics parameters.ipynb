{
 "cells": [
  {
   "cell_type": "code",
   "execution_count": 1,
   "metadata": {},
   "outputs": [],
   "source": [
    "from IPython.core.display import display, HTML\n",
    "display(HTML(\"<style>.container { width:90% !important; }</style>\"))"
   ]
  },
  {
   "cell_type": "markdown",
   "metadata": {},
   "source": [
    "# Attractant Dynamics Parameters\n",
    "\n",
    "This notebook allows you to expermiment with how different attractant dynamics parameters create different levels of observed bias in different points in space and time. The model goes something like this:\n",
    "\n",
    "The heat equation gives us a solution to calculate the concentration of attractant at any point $r$ and $t$ in space. It takes parameters $q$, $D$ and $\\tau$, which represent the flow rate, the diffusion coefficient and the diffusion time respectively. This is then used, along with the theory of receptir-lingand binding kinetics, to predict the number of bound complexes that should appear on either side of a migrating leukocyte. This equation takes parameters $R_0$ and $\\kappa_d$. Finally, the observed bias of a cell at time $t$ a distance $r$ from the wound is assumed to be linearly related to the difference between the concentration of bound receptors at the front and rear of the cell. \n",
    "\n",
    "This means, given a set of parameters $\\theta = \\{q, \\, D, \\, \\tau, \\, R_0, \\, \\kappa_d, \\, m, \\, b_0\\}$, we can calculate the observed bias one would expect to occur at any point in space and time. \n",
    "\n"
   ]
  },
  {
   "cell_type": "code",
   "execution_count": 2,
   "metadata": {},
   "outputs": [],
   "source": [
    "# allow imports from the LM package\n",
    "import os\n",
    "import sys\n",
    "sys.path.append(os.path.abspath('..'))"
   ]
  },
  {
   "cell_type": "code",
   "execution_count": 3,
   "metadata": {},
   "outputs": [],
   "source": [
    "from inference.attractant_inference import AttractantInferer, observed_bias\n",
    "from in_silico.sources import CellsOnWoundMargin, PointWound, CellsInsideWound\n",
    "from Utilities.distributions import Normal"
   ]
  },
  {
   "cell_type": "code",
   "execution_count": 4,
   "metadata": {},
   "outputs": [],
   "source": [
    "import numpy as np\n",
    "import matplotlib.pyplot as plt\n",
    "#%matplotlib notebook"
   ]
  },
  {
   "cell_type": "code",
   "execution_count": 5,
   "metadata": {},
   "outputs": [],
   "source": [
    "from ipywidgets import interact\n",
    "#%matplotlib notebook"
   ]
  },
  {
   "cell_type": "code",
   "execution_count": 6,
   "metadata": {},
   "outputs": [],
   "source": [
    "# update functions for the plot\n",
    "\n",
    "def update_y():\n",
    "    \n",
    "    for scat, line, tt in zip(scats, lines, t):\n",
    "        line.set_ydata(observed_bias(params, r, tt, wound))\n",
    "        scat.set_ydata(observed_bias(params, r_points, tt, wound))\n",
    "        \n",
    "def update_q(q=500):\n",
    "    params[0] = q\n",
    "    update_y()\n",
    "    \n",
    "def update_D(D=300):\n",
    "    params[1] = D\n",
    "    update_y()\n",
    "    \n",
    "def update_tau(tau=30):\n",
    "    params[2] = tau\n",
    "    update_y()\n",
    "    \n",
    "def update_R0(R0=0.2):\n",
    "    params[3] = R0\n",
    "    update_y()\n",
    "    \n",
    "def update_kappa(kappa=0.1):\n",
    "    params[4] = kappa\n",
    "    update_y()\n",
    "    \n",
    "def update_m(m=3):\n",
    "    params[5] = m\n",
    "    update_y()\n",
    "    \n",
    "def update_b0(b0=0.001):\n",
    "    params[6] = b0\n",
    "    update_y()"
   ]
  },
  {
   "cell_type": "markdown",
   "metadata": {},
   "source": [
    "## Observed bias: a point wound"
   ]
  },
  {
   "cell_type": "code",
   "execution_count": 7,
   "metadata": {},
   "outputs": [
    {
     "data": {
      "image/png": "[encoded data removed]",
      "text/plain": [
       "<Figure size 432x288 with 5 Axes>"
      ]
     },
     "metadata": {
      "needs_background": "light"
     },
     "output_type": "display_data"
    },
    {
     "data": {
      "application/vnd.jupyter.widget-view+json": {
       "model_id": "4bf58f805e21468187b9bffe44cbf4ea",
       "version_major": 2,
       "version_minor": 0
      },
      "text/plain": [
       "interactive(children=(IntSlider(value=500, description='q', max=1000, min=1), Output()), _dom_classes=('widget…"
      ]
     },
     "metadata": {},
     "output_type": "display_data"
    },
    {
     "data": {
      "application/vnd.jupyter.widget-view+json": {
       "model_id": "e4255d10636e4b58afc5efba7005c7e0",
       "version_major": 2,
       "version_minor": 0
      },
      "text/plain": [
       "interactive(children=(IntSlider(value=300, description='D', max=1000, min=1), Output()), _dom_classes=('widget…"
      ]
     },
     "metadata": {},
     "output_type": "display_data"
    },
    {
     "data": {
      "application/vnd.jupyter.widget-view+json": {
       "model_id": "38996f6daef4435b85872ed87ceadf6c",
       "version_major": 2,
       "version_minor": 0
      },
      "text/plain": [
       "interactive(children=(IntSlider(value=30, description='tau'), Output()), _dom_classes=('widget-interact',))"
      ]
     },
     "metadata": {},
     "output_type": "display_data"
    },
    {
     "data": {
      "application/vnd.jupyter.widget-view+json": {
       "model_id": "36096c16763c43419f1d49576c78c0ce",
       "version_major": 2,
       "version_minor": 0
      },
      "text/plain": [
       "interactive(children=(FloatSlider(value=0.2, description='R0', max=1.0, step=0.001), Output()), _dom_classes=(…"
      ]
     },
     "metadata": {},
     "output_type": "display_data"
    },
    {
     "data": {
      "application/vnd.jupyter.widget-view+json": {
       "model_id": "a1cba22d4e6f4a5c835bde15b65d53fc",
       "version_major": 2,
       "version_minor": 0
      },
      "text/plain": [
       "interactive(children=(FloatSlider(value=0.1, description='kappa', max=1.0, step=0.001), Output()), _dom_classe…"
      ]
     },
     "metadata": {},
     "output_type": "display_data"
    },
    {
     "data": {
      "application/vnd.jupyter.widget-view+json": {
       "model_id": "af53a341e31a4df2a6f890cb812059c9",
       "version_major": 2,
       "version_minor": 0
      },
      "text/plain": [
       "interactive(children=(FloatSlider(value=3.0, description='m', max=10.0, step=0.01), Output()), _dom_classes=('…"
      ]
     },
     "metadata": {},
     "output_type": "display_data"
    },
    {
     "data": {
      "application/vnd.jupyter.widget-view+json": {
       "model_id": "151654b8f247423d9bd969ebdf1e1339",
       "version_major": 2,
       "version_minor": 0
      },
      "text/plain": [
       "interactive(children=(FloatSlider(value=0.001, description='b0', max=0.01, step=0.0001), Output()), _dom_class…"
      ]
     },
     "metadata": {},
     "output_type": "display_data"
    }
   ],
   "source": [
    "q = 500\n",
    "D = 300\n",
    "tau = 35\n",
    "R0 = 0.2\n",
    "kappa = 0.1\n",
    "m = 3\n",
    "b0 = 0.001\n",
    "params = np.array([q, D, tau, R0, kappa, m, b0])\n",
    "\n",
    "fig, axes = plt.subplots(ncols=1, nrows=5, sharex=True)\n",
    "    \n",
    "# instantiate a point wound\n",
    "wound = PointWound(position=np.array([0, 0]))\n",
    "\n",
    "# where to measure observed bias\n",
    "r_points = np.array([25, 50, 75, 100, 125, 150, 175, 200, 225, 250])#, 175, 200, 225, 250\n",
    "r = np.linspace(25, 250, 100)\n",
    "t = np.array([10, 30, 50, 80, 120])\n",
    "\n",
    "for ax, p in zip(axes, t):\n",
    "    ax.set_ylabel('$t={}$'.format(p), rotation=0, size='large', labelpad=35)\n",
    "\n",
    "# plot the points \n",
    "lines = []\n",
    "scatters = []\n",
    "for i, tt in enumerate(t):\n",
    "    col = plt.rcParams['axes.prop_cycle'].by_key()['color'][i]\n",
    "    lines.append(axes[i].plot(r, observed_bias(params, r, tt, wound), color=col, linewidth=1)[0])\n",
    "    scatters.append(axes[i].plot(r_points, observed_bias(params, r_points, tt, wound), color=col, marker='o', linewidth=0, markersize=4)[0])\n",
    "    axes[i].set_ylim(0, 0.3)\n",
    "\n",
    "axes[0].set_title('A point wound: observed bias as a function of distance')\n",
    "axes[-1].set_xlabel('Distance, microns')\n",
    "plt.tight_layout()\n",
    "\n",
    "# use interactive sliders to change the parameters    \n",
    "interact(update_q, q=(1, 1000, 1));\n",
    "interact(update_D, D=(1, 1000, 1));\n",
    "interact(update_tau, tau=(0, 100, 1));\n",
    "interact(update_R0, R0=(0, 1, 0.001));\n",
    "interact(update_kappa, kappa=(0, 1, 0.001));\n",
    "interact(update_m, m=(0, 10, 0.01));\n",
    "interact(update_b0, b0=(0, 0.01, 0.0001));"
   ]
  },
  {
   "cell_type": "markdown",
   "metadata": {},
   "source": [
    "# We can now use the observed bias readings at these specific points in space and time to try and infer back the attractant dynamics parameters"
   ]
  },
  {
   "cell_type": "code",
   "execution_count": 8,
   "metadata": {},
   "outputs": [
    {
     "data": {
      "text/plain": [
       "{(25, 10): (0.17323364205240613, 0.02),\n",
       " (50, 10): (0.15417528707314687, 0.02),\n",
       " (75, 10): (0.10817578542802872, 0.02),\n",
       " (100, 10): (0.06474458562395205, 0.02),\n",
       " (125, 10): (0.034960672000326876, 0.02),\n",
       " (150, 10): (0.01748157296946415, 0.02),\n",
       " (175, 10): (0.00831729252313429, 0.02),\n",
       " (200, 10): (0.00397247570917647, 0.02),\n",
       " (225, 10): (0.0021035327893626768, 0.02),\n",
       " (250, 10): (0.0013738023241753597, 0.02),\n",
       " (25, 30): (0.10189915649427037, 0.02),\n",
       " (50, 30): (0.1007361422695835, 0.02),\n",
       " (75, 30): (0.09551311770379994, 0.02),\n",
       " (100, 30): (0.08239722508302758, 0.02),\n",
       " (125, 30): (0.06597399594557898, 0.02),\n",
       " (150, 30): (0.05009990334743106, 0.02),\n",
       " (175, 30): (0.03658179187170546, 0.02),\n",
       " (200, 30): (0.025892901779127092, 0.02),\n",
       " (225, 30): (0.017866741222362453, 0.02),\n",
       " (250, 30): (0.012085295574642857, 0.02),\n",
       " (25, 50): (0.010092242318079564, 0.02),\n",
       " (50, 50): (0.0186423417916122, 0.02),\n",
       " (75, 50): (0.026019377034670138, 0.02),\n",
       " (100, 50): (0.03153185049155591, 0.02),\n",
       " (125, 50): (0.03461057694871425, 0.02),\n",
       " (150, 50): (0.03504850885730584, 0.02),\n",
       " (175, 50): (0.033120550881538646, 0.02),\n",
       " (200, 50): (0.029488517873795944, 0.02),\n",
       " (225, 50): (0.024962525790707596, 0.02),\n",
       " (250, 50): (0.020267975069916816, 0.02),\n",
       " (25, 80): (0.0035950978530451807, 0.02),\n",
       " (50, 80): (0.006083364693797721, 0.02),\n",
       " (75, 80): (0.008362093848602259, 0.02),\n",
       " (100, 80): (0.010337632030509913, 0.02),\n",
       " (125, 80): (0.011931394421560049, 0.02),\n",
       " (150, 80): (0.013086424577138406, 0.02),\n",
       " (175, 80): (0.013773210820140658, 0.02),\n",
       " (200, 80): (0.013993171829333018, 0.02),\n",
       " (225, 80): (0.013778559130077417, 0.02),\n",
       " (250, 80): (0.01318838220118651, 0.02),\n",
       " (25, 120): (0.0020078131372639743, 0.02),\n",
       " (50, 120): (0.0029881624211251503, 0.02),\n",
       " (75, 120): (0.003914605674444237, 0.02),\n",
       " (100, 120): (0.004762729939345816, 0.02),\n",
       " (125, 120): (0.005511120582331829, 0.02),\n",
       " (150, 120): (0.00614225107309188, 0.02),\n",
       " (175, 120): (0.006643235933787405, 0.02),\n",
       " (200, 120): (0.007006379745663676, 0.02),\n",
       " (225, 120): (0.007229457953663198, 0.02),\n",
       " (250, 120): (0.007315682618133173, 0.02)}"
      ]
     },
     "execution_count": 8,
     "metadata": {},
     "output_type": "execute_result"
    }
   ],
   "source": [
    "# get the observed bias readings from the sliders graph. \n",
    "# ob_readings is a dictionary containing {(r, t): mu, sig} where mu and sig are the observed bias mean and standard deviation at the point r and time t\n",
    "\n",
    "ob_readings = {}\n",
    "for T, ob in zip(t, scatters):\n",
    "    mus = ob.get_ydata()\n",
    "    rs = ob.get_xdata()\n",
    "    for r, mu in zip(rs, mus):\n",
    "        ob_readings[(r, T)] = (mu, 0.02)\n",
    "        \n",
    "ob_readings"
   ]
  },
  {
   "cell_type": "code",
   "execution_count": 66,
   "metadata": {},
   "outputs": [
    {
     "name": "stdout",
     "output_type": "stream",
     "text": [
      "Running sampler: \n"
     ]
    },
    {
     "name": "stderr",
     "output_type": "stream",
     "text": [
      "100%|██████████| 20000/20000 [14:38<00:00, 22.76it/s]\n"
     ]
    }
   ],
   "source": [
    "nwalkers = 60\n",
    "niters = 20000\n",
    "inferer_prod = AttractantInferer(ob_readings, wound=wound, t_units='minutes')\n",
    "out1 = inferer_prod.ensembleinfer(nwalkers,niters)"
   ]
  },
  {
   "cell_type": "code",
   "execution_count": 71,
   "metadata": {
    "scrolled": true
   },
   "outputs": [
    {
     "data": {
      "image/png": "[encoded data removed]",
      "text/plain": [
       "<Figure size 864x360 with 7 Axes>"
      ]
     },
     "metadata": {
      "needs_background": "light"
     },
     "output_type": "display_data"
    }
   ],
   "source": [
    "sampler = out1[0]\n",
    "Out_total = sampler.get_chain(discard=500, flat=True)\n",
    "\n",
    "fig, axes = plt.subplots(nrows=1, ncols=7, figsize=(12, 5), sharex='col')\n",
    "cols = plt.rcParams['axes.prop_cycle'].by_key()['color']\n",
    "\n",
    "names = ['$q$ [mol min$^{-1}$]', '$D$ [$\\mu m^{2}$ min$^{-1}$]', 'τ [min]', '$R_0$ [mol $\\mu m^{-2}$]', '$\\kappa_d$ [mol $\\mu m^{-2}$]', '$m$ [$\\mu m^{2}$ mol$^{-1}$]', '$b_0$ [unitless]']\n",
    "\n",
    "for j in range(7):\n",
    "    \n",
    "        axes[j].set_title(names[j])\n",
    "        axes[j].set_yticks([])\n",
    "        axes[j].hist(Out_total[:, j], bins=50, color=cols[j], alpha=0.6, density=True)\n",
    "        inferer_prod.priors[j].plot(ax=axes[j], color=cols[j])\n",
    "        \n",
    "plt.tight_layout()"
   ]
  },
  {
   "cell_type": "code",
   "execution_count": 74,
   "metadata": {},
   "outputs": [
    {
     "name": "stderr",
     "output_type": "stream",
     "text": [
      "/Users/danieltudor/opt/anaconda3/lib/python3.8/site-packages/numpy/core/_asarray.py:136: VisibleDeprecationWarning: Creating an ndarray from ragged nested sequences (which is a list-or-tuple of lists-or-tuples-or ndarrays with different lengths or shapes) is deprecated. If you meant to do this, you must specify 'dtype=object' when creating the ndarray\n",
      "  return array(a, dtype, copy=False, order=order, subok=True)\n"
     ]
    }
   ],
   "source": [
    "np.save('../data/Synthetic_Data/Synth_attract_prod_time', out1)\n"
   ]
  },
  {
   "cell_type": "code",
   "execution_count": 75,
   "metadata": {},
   "outputs": [
    {
     "name": "stderr",
     "output_type": "stream",
     "text": [
      "\r",
      "  0%|          | 0/20000 [00:00<?, ?it/s]"
     ]
    },
    {
     "name": "stdout",
     "output_type": "stream",
     "text": [
      "Running sampler: \n"
     ]
    },
    {
     "name": "stderr",
     "output_type": "stream",
     "text": [
      "100%|██████████| 20000/20000 [12:54<00:00, 25.82it/s]\n"
     ]
    }
   ],
   "source": [
    "nwalkers = 60\n",
    "niters = 20000\n",
    "inferer_delta = AttractantInferer(ob_readings, wound=wound, t_units='minutes', dynamics = 1)\n",
    "out1_delta = inferer_delta.ensembleinfer(nwalkers,niters)"
   ]
  },
  {
   "cell_type": "code",
   "execution_count": 76,
   "metadata": {},
   "outputs": [
    {
     "data": {
      "image/png": "[encoded data removed]",
      "text/plain": [
       "<Figure size 864x360 with 6 Axes>"
      ]
     },
     "metadata": {
      "needs_background": "light"
     },
     "output_type": "display_data"
    }
   ],
   "source": [
    "np.save('../data/Synthetic_Data/Synth_attract_constant_conc', out1_delta)\n",
    "\n",
    "\n",
    "\n",
    "sampler_delta = out1_delta[0]\n",
    "Out_total_delta = sampler_delta.get_chain(discard=2000, thin=5, flat=True)\n",
    "\n",
    "fig, axes = plt.subplots(nrows=1, ncols=6, figsize=(12, 5), sharex='col')\n",
    "cols = plt.rcParams['axes.prop_cycle'].by_key()['color']\n",
    "\n",
    "names = ['$C_0$ [mol]', '$D$ [$\\mu m^{2}$ min$^{-1}$]', '$R_0$ [mol $\\mu m^{-2}$]', '$\\kappa_d$ [mol $\\mu m^{-2}$]', '$m$ [$\\mu m^{2}$ mol$^{-1}$]', '$b_0$ [unitless]']\n",
    "\n",
    "for j in range(6):\n",
    "    \n",
    "        axes[j].set_title(names[j])\n",
    "        axes[j].set_yticks([])\n",
    "        axes[j].hist(Out_total_delta[:, j], bins=50, color=cols[j], alpha=0.6, density=True)\n",
    "        inferer_delta.priors[j].plot(ax=axes[j], color=cols[j])\n",
    "        \n",
    "plt.tight_layout()"
   ]
  },
  {
   "cell_type": "code",
   "execution_count": 77,
   "metadata": {},
   "outputs": [
    {
     "data": {
      "text/plain": [
       "93.56555201903562"
      ]
     },
     "execution_count": 77,
     "metadata": {},
     "output_type": "execute_result"
    }
   ],
   "source": [
    "np.mean(Out_total_delta[:, 1])"
   ]
  },
  {
   "cell_type": "code",
   "execution_count": 31,
   "metadata": {},
   "outputs": [
    {
     "data": {
      "text/plain": [
       "(array([1.6773e+04, 8.3100e+02, 9.6000e+01, 1.6000e+01, 1.2300e+02,\n",
       "        5.0000e+00, 4.0000e+00, 3.5000e+01, 4.7000e+01, 7.0000e+01]),\n",
       " array([  1.02491921,  34.01883378,  67.01274835, 100.00666291,\n",
       "        133.00057748, 165.99449205, 198.98840662, 231.98232119,\n",
       "        264.97623576, 297.97015033, 330.96406489]),\n",
       " <BarContainer object of 10 artists>)"
      ]
     },
     "execution_count": 31,
     "metadata": {},
     "output_type": "execute_result"
    },
    {
     "data": {
      "image/png": "[encoded data removed]",
      "text/plain": [
       "<Figure size 432x288 with 1 Axes>"
      ]
     },
     "metadata": {
      "needs_background": "light"
     },
     "output_type": "display_data"
    }
   ],
   "source": [
    "plt.hist(Out_total_delta[:,0])"
   ]
  },
  {
   "cell_type": "code",
   "execution_count": 80,
   "metadata": {},
   "outputs": [
    {
     "data": {
      "text/plain": [
       "71729.70323878017"
      ]
     },
     "execution_count": 80,
     "metadata": {},
     "output_type": "execute_result"
    }
   ],
   "source": [
    "\n",
    "def HME(sampler):\n",
    "    log_probs = sampler.get_log_prob(flat = True, discard = 250)\n",
    "    probs = np.exp(log_probs)\n",
    "    HME = 1 / np.mean(1/probs)\n",
    "    return HME\n",
    "\n",
    "HME1 = HME(out1[0])\n",
    "HME2 = HME(out1_delta[0])\n",
    "\n",
    "\n",
    "HME1/HME2"
   ]
  },
  {
   "cell_type": "code",
   "execution_count": 41,
   "metadata": {},
   "outputs": [
    {
     "data": {
      "text/plain": [
       "(1.899970827414877e-54, 4.172528949151005e-40)"
      ]
     },
     "execution_count": 41,
     "metadata": {},
     "output_type": "execute_result"
    }
   ],
   "source": [
    "\n",
    "def HME(sampler):\n",
    "    log_probs = sampler.get_log_prob(flat = True, discard = 1500)\n",
    "    probs = np.exp(log_probs)\n",
    "    HME = np.mean(1/probs)\n",
    "    return HME\n",
    "\n",
    "HME1 = HME(out1[0])\n",
    "HME2 = HME(out1_delta[0])\n",
    "\n",
    "\n",
    "HME1, HME2"
   ]
  },
  {
   "cell_type": "code",
   "execution_count": 81,
   "metadata": {},
   "outputs": [
    {
     "name": "stderr",
     "output_type": "stream",
     "text": [
      "/Users/danieltudor/opt/anaconda3/lib/python3.8/site-packages/numpy/core/fromnumeric.py:3372: RuntimeWarning: Mean of empty slice.\n",
      "  return _methods._mean(a, axis=axis, dtype=dtype,\n",
      "/Users/danieltudor/opt/anaconda3/lib/python3.8/site-packages/numpy/core/_methods.py:170: RuntimeWarning: invalid value encountered in double_scalars\n",
      "  ret = ret.dtype.type(ret / rcount)\n"
     ]
    },
    {
     "data": {
      "image/png": "[encoded data removed]",
      "text/plain": [
       "<Figure size 432x288 with 1 Axes>"
      ]
     },
     "metadata": {
      "needs_background": "light"
     },
     "output_type": "display_data"
    }
   ],
   "source": [
    "\n",
    "def HME(sampler,discards):\n",
    "    log_probs = sampler.get_log_prob(flat = True, discard = discards)\n",
    "    probs = np.exp(log_probs)\n",
    "    HME = np.mean(1/probs)\n",
    "    return HME\n",
    "\n",
    "#HME1 = HME(out1[0])\n",
    "#HME2 = HME(out1_delta[0])\n",
    "\n",
    "discards = np.arange(250,20250,250)\n",
    "hme_1 = []\n",
    "hme_2 = []\n",
    "for discard in discards:\n",
    "    hme_1.append(HME(out1[0],discard))\n",
    "    hme_2.append(HME(out1_delta[0],discard))\n",
    "    \n",
    "plt.plot(discards,hme_1)\n",
    "plt.plot(discards,hme_2)\n",
    "plt.yscale(\"log\")\n",
    "\n",
    "\n",
    "\n",
    "\n",
    "\n",
    "\n",
    "#HME1, HME2"
   ]
  },
  {
   "cell_type": "code",
   "execution_count": 82,
   "metadata": {},
   "outputs": [
    {
     "data": {
      "text/plain": [
       "[<matplotlib.lines.Line2D at 0x7fe4cdae5be0>]"
      ]
     },
     "execution_count": 82,
     "metadata": {},
     "output_type": "execute_result"
    },
    {
     "data": {
      "image/png": "[encoded data removed]",
      "text/plain": [
       "<Figure size 432x288 with 1 Axes>"
      ]
     },
     "metadata": {
      "needs_background": "light"
     },
     "output_type": "display_data"
    }
   ],
   "source": [
    "ratio = [hme_1[i]/hme_2[i] for i in range(len(hme_1))]\n",
    "plt.plot(discards, ratio)"
   ]
  },
  {
   "cell_type": "code",
   "execution_count": 18,
   "metadata": {},
   "outputs": [
    {
     "data": {
      "text/plain": [
       "3.2953912199539613e-29"
      ]
     },
     "execution_count": 18,
     "metadata": {},
     "output_type": "execute_result"
    }
   ],
   "source": [
    "HME1/HME2"
   ]
  },
  {
   "cell_type": "code",
   "execution_count": 83,
   "metadata": {},
   "outputs": [
    {
     "data": {
      "image/png": "[encoded data removed]",
      "text/plain": [
       "<Figure size 432x288 with 5 Axes>"
      ]
     },
     "metadata": {
      "needs_background": "light"
     },
     "output_type": "display_data"
    }
   ],
   "source": [
    "q = 14\n",
    "D = 90.0\n",
    "tau = 35\n",
    "R0 = 0.2\n",
    "kappa = 0.1\n",
    "m = 3\n",
    "b0 = 0.001\n",
    "params = np.array([q, D, R0, kappa, m, b0])\n",
    "params_1 = np.array([500, 300, tau, R0, kappa, m, b0])\n",
    "\n",
    "\n",
    "fig, axes = plt.subplots(ncols=1, nrows=5, sharex=True)\n",
    "    \n",
    "# instantiate a point wound\n",
    "wound = PointWound(position=np.array([0, 0]))\n",
    "\n",
    "# where to measure observed bias\n",
    "r_points = np.array([25, 50, 75, 100, 125, 150, 175, 200, 225, 250])#, 175, 200, 225, 250\n",
    "r = np.linspace(25, 250, 100)\n",
    "t = np.array([10, 30, 50, 80, 120])\n",
    "\n",
    "for ax, p in zip(axes, t):\n",
    "    ax.set_ylabel('$t={}$'.format(p), rotation=0, size='large', labelpad=35)\n",
    "\n",
    "# plot the points \n",
    "lines = []\n",
    "scatters = []\n",
    "for i, tt in enumerate(t):\n",
    "    col = plt.rcParams['axes.prop_cycle'].by_key()['color'][i]\n",
    "    lines.append(axes[i].plot(r, observed_bias(params, r, tt, wound), color=col, linewidth=1)[0])\n",
    "    scatters.append(axes[i].plot(r_points, observed_bias(params_1, r_points, tt, wound), color=col, marker='o', linewidth=0, markersize=4)[0])\n",
    "    axes[i].set_ylim(0, 0.3)\n",
    "\n",
    "axes[0].set_title('A point wound: observed bias as a function of distance')\n",
    "axes[-1].set_xlabel('Distance, microns')\n",
    "plt.tight_layout()"
   ]
  },
  {
   "cell_type": "code",
   "execution_count": 35,
   "metadata": {},
   "outputs": [
    {
     "data": {
      "text/plain": [
       "(array([2.00000e+00, 6.90000e+01, 5.62000e+02, 3.73000e+02, 3.70000e+01,\n",
       "        3.72000e+02, 2.11900e+03, 9.63300e+03, 5.67390e+04, 1.25094e+05]),\n",
       " array([ 96.63229552, 100.12462798, 103.61696043, 107.10929288,\n",
       "        110.60162533, 114.09395778, 117.58629024, 121.07862269,\n",
       "        124.57095514, 128.06328759, 131.55562004]),\n",
       " <BarContainer object of 10 artists>)"
      ]
     },
     "execution_count": 35,
     "metadata": {},
     "output_type": "execute_result"
    },
    {
     "data": {
      "image/png": "[encoded data removed]",
      "text/plain": [
       "<Figure size 432x288 with 1 Axes>"
      ]
     },
     "metadata": {
      "needs_background": "light"
     },
     "output_type": "display_data"
    }
   ],
   "source": [
    "log_probs = sampler.get_log_prob(flat = True, discard = 250)\n",
    "probs = np.exp(log_probs)\n",
    "\n",
    "plt.hist(log_probs)\n"
   ]
  },
  {
   "cell_type": "code",
   "execution_count": null,
   "metadata": {},
   "outputs": [],
   "source": []
  }
 ],
 "metadata": {
  "@webio": {
   "lastCommId": null,
   "lastKernelId": null
  },
  "kernelspec": {
   "display_name": "Python 3",
   "language": "python",
   "name": "python3"
  },
  "language_info": {
   "codemirror_mode": {
    "name": "ipython",
    "version": 3
   },
   "file_extension": ".py",
   "mimetype": "text/x-python",
   "name": "python",
   "nbconvert_exporter": "python",
   "pygments_lexer": "ipython3",
   "version": "3.8.5"
  }
 },
 "nbformat": 4,
 "nbformat_minor": 2
}
