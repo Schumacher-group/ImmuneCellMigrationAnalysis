{
 "cells": [
  {
   "cell_type": "markdown",
   "metadata": {},
   "source": [
    "## Full inference pipeline for the Weavers data \n",
    " \n",
    "The full inference pipeline along with data cleaning is implemented on the Weavers et al data. "
   ]
  },
  {
   "cell_type": "code",
   "execution_count": 1,
   "metadata": {},
   "outputs": [],
   "source": [
    "# Import all the necessary modules needed to run the inference pipeline\n",
    "import sys\n",
    "import os\n",
    "\n",
    "sys.path.append(os.path.abspath('..'))\n",
    "\n",
    "import matplotlib.pyplot as plt\n",
    "import numpy as np\n",
    "import pandas as pd\n",
    "from inference.walker_inference import BiasedPersistentInferer, prepare_paths\n",
    "from inference.attractant_inference import AttractantInferer\n",
    "from in_silico.sources import PointSource, PointWound\n",
    "from Utilities.plotting import plot_find_wound_location\n",
    "\n",
    "\n",
    "\n",
    "# This takes our csv's and loads them into a dataframe\n",
    "df1 = pd.read_csv(\"../data/Comparison_data/140514Wounded/trajectories140514.csv\")\n",
    "df2 = pd.read_csv(\"../data/Comparison_data/280514WoundedS20/trajectories280515s20.csv\")\n",
    "df3 = pd.read_csv(\"../data/Comparison_data/280514WoundedS22/trajectories280515s22.csv\")"
   ]
  },
  {
   "cell_type": "code",
   "execution_count": 2,
   "metadata": {},
   "outputs": [
    {
     "data": {
      "text/html": [
       "<div>\n",
       "<style scoped>\n",
       "    .dataframe tbody tr th:only-of-type {\n",
       "        vertical-align: middle;\n",
       "    }\n",
       "\n",
       "    .dataframe tbody tr th {\n",
       "        vertical-align: top;\n",
       "    }\n",
       "\n",
       "    .dataframe thead th {\n",
       "        text-align: right;\n",
       "    }\n",
       "</style>\n",
       "<table border=\"1\" class=\"dataframe\">\n",
       "  <thead>\n",
       "    <tr style=\"text-align: right;\">\n",
       "      <th></th>\n",
       "      <th>X</th>\n",
       "      <th>Y</th>\n",
       "      <th>Z</th>\n",
       "      <th>r</th>\n",
       "      <th>t</th>\n",
       "    </tr>\n",
       "  </thead>\n",
       "  <tbody>\n",
       "    <tr>\n",
       "      <th>1</th>\n",
       "      <td>x</td>\n",
       "      <td>y</td>\n",
       "      <td>z</td>\n",
       "      <td>r</td>\n",
       "      <td>t</td>\n",
       "    </tr>\n",
       "    <tr>\n",
       "      <th>2</th>\n",
       "      <td>626.1124</td>\n",
       "      <td>534.4357</td>\n",
       "      <td>7.972</td>\n",
       "      <td>4</td>\n",
       "      <td>0</td>\n",
       "    </tr>\n",
       "    <tr>\n",
       "      <th>3</th>\n",
       "      <td>626.2758</td>\n",
       "      <td>535.1942</td>\n",
       "      <td>7.972</td>\n",
       "      <td>4</td>\n",
       "      <td>1</td>\n",
       "    </tr>\n",
       "    <tr>\n",
       "      <th>4</th>\n",
       "      <td>625.9208</td>\n",
       "      <td>534.139</td>\n",
       "      <td>7.972</td>\n",
       "      <td>4</td>\n",
       "      <td>2</td>\n",
       "    </tr>\n",
       "    <tr>\n",
       "      <th>5</th>\n",
       "      <td>625.1873</td>\n",
       "      <td>533.8492</td>\n",
       "      <td>7.972</td>\n",
       "      <td>4</td>\n",
       "      <td>3</td>\n",
       "    </tr>\n",
       "  </tbody>\n",
       "</table>\n",
       "</div>"
      ],
      "text/plain": [
       "          X         Y      Z  r  t\n",
       "1         x         y      z  r  t\n",
       "2  626.1124  534.4357  7.972  4  0\n",
       "3  626.2758  535.1942  7.972  4  1\n",
       "4  625.9208   534.139  7.972  4  2\n",
       "5  625.1873  533.8492  7.972  4  3"
      ]
     },
     "execution_count": 2,
     "metadata": {},
     "output_type": "execute_result"
    }
   ],
   "source": [
    "# Check the imported data, row 1 has x,y,z,r,t where it should just be cell trajectories.\n",
    "# This is due to the data being formatted as paragraphed spaced in the .txt files\n",
    "df1.head()"
   ]
  },
  {
   "cell_type": "markdown",
   "metadata": {},
   "source": [
    "Function which cleans up the original dataframe and reshapes it to fit the inference pipeline better. \n",
    "We also use create a column called Track_ID which allows us to organise the cells into their individual tracks. \n",
    "The row loop extracts the rows which contain a string value = 'x' and creates a list of these row labels. Then\n",
    "removes drops these rows from the dataframe. The to_numeric makes sure that all of the x,y,t data is numeric and we convert our t column into seconds from minutes. We rename the columns, and readjust the trajectories to a wound at centre (0,0). Finally, we add a label the Track_ID so we can use the groupby command in pandas for the inference pipeline. \n",
    "\n",
    "Function create_dataframe takes in: \n",
    "- df = original dataframe from csv\n",
    "- xw,yw = wound location\n",
    "- loc = label\n",
    "\n",
    "It outputs a new reshaped dataframe which contains:\n",
    "- Track_ID \n",
    "- x,y\n",
    "- r\n",
    "- t \n"
   ]
  },
  {
   "cell_type": "code",
   "execution_count": 3,
   "metadata": {},
   "outputs": [],
   "source": [
    "\n",
    "def create_dataframe(df, xw, yw,loc):\n",
    "    df[\"Track_ID\"] = 0\n",
    "    row_labels = df[df.X == \"x\"].index.values\n",
    "    row_labels = np.append(row_labels, len(df))\n",
    "    for row in range(len(row_labels) - 1):\n",
    "        df.iloc[row_labels[row]:row_labels[row + 1], df.columns.get_loc('Track_ID')] = row + 1\n",
    "    df = df.drop(df.index[row_labels - 1])\n",
    "    df['t'] = pd.to_numeric(df['t'])\n",
    "    df['X'] = pd.to_numeric(df['X'])\n",
    "    df['Y'] = pd.to_numeric(df['Y'])\n",
    "    df[\"t\"] = 60 * df[\"t\"]\n",
    "    reshapeddata = pd.DataFrame({'Track_ID': df['Track_ID'], 't': df['t'], 'x': df['X'], 'y': df['Y']})\n",
    "    reshapeddata['x'] = reshapeddata['x'] - xw\n",
    "    reshapeddata['y'] = reshapeddata['y'] - yw\n",
    "    reshapeddata['r'] = (lambda x, y: np.sqrt(x ** 2 + y ** 2))(reshapeddata['x'], reshapeddata['y'])\n",
    "    reshapeddata['Track_ID'] = reshapeddata['Track_ID'].astype(str)\n",
    "    reshapeddata.Track_ID = reshapeddata.Track_ID + \"{}\".format(loc)  # creates a label for the tracks to be organised by\n",
    "    return reshapeddata"
   ]
  },
  {
   "cell_type": "code",
   "execution_count": 4,
   "metadata": {},
   "outputs": [],
   "source": [
    "trajectory_example = create_dataframe(df2,0,0,\"A\")\n",
    "\n",
    "\n",
    "trajectory_1 = create_dataframe(df1,380,420,\"A\")\n",
    "trajectory_2 = create_dataframe(df2, 300,175,\"B\")\n",
    "trajectory_3 = create_dataframe(df3, 280,150,\"C\")\n",
    "trajectory = pd.concat([trajectory_1,trajectory_2, trajectory_3]) #Concatenates the  data"
   ]
  },
  {
   "cell_type": "markdown",
   "metadata": {},
   "source": [
    "To try and find the wound location, the final location of the cell trajectories are plotted"
   ]
  },
  {
   "cell_type": "code",
   "execution_count": 15,
   "metadata": {},
   "outputs": [],
   "source": []
  },
  {
   "cell_type": "code",
   "execution_count": 24,
   "metadata": {},
   "outputs": [
    {
     "data": {
      "image/png": "[encoded data removed]",
      "text/plain": [
       "<Figure size 432x288 with 1 Axes>"
      ]
     },
     "metadata": {
      "needs_background": "light"
     },
     "output_type": "display_data"
    },
    {
     "data": {
      "text/plain": [
       "pandas.core.frame.DataFrame"
      ]
     },
     "execution_count": 24,
     "metadata": {},
     "output_type": "execute_result"
    }
   ],
   "source": [
    "plot_find_wound_location(trajectory)\n"
   ]
  },
  {
   "cell_type": "code",
   "execution_count": 19,
   "metadata": {},
   "outputs": [],
   "source": [
    "# Plot of temporal bins of the trajectory data \n",
    "def plotxy_time_bins(dataframe):\n",
    "    trajectory = dataframe\n",
    "    t20 = trajectory[(trajectory['t'] >= 0) & (trajectory['t'] <= (20 * 60))]\n",
    "    t35 = trajectory[(trajectory['t'] >= (20 * 60)) & (trajectory['t'] <= (35 * 60))]\n",
    "    t50 = trajectory[(trajectory['t'] >= (35 * 60)) & (trajectory['t'] <= (50 * 60))]\n",
    "    t65 = trajectory[(trajectory['t'] >= (50 * 60)) & (trajectory['t'] <= (65 * 60))]\n",
    "    t90 = trajectory[(trajectory['t']>= (65 * 60)) & (trajectory['t'] <= (90 * 60))]\n",
    "    t125 = trajectory[(trajectory['t']>= (90 * 60)) & (trajectory['t'] <= (125 * 60))]\n",
    "\n",
    "    fig, ax = plt.subplots(1,1,figsize=(5,5),sharex=True)\n",
    "\n",
    "    for ID, tracks in t125.groupby('Track_ID'):\n",
    "            t125, =plt.plot(tracks['x'], tracks['y'],color = 'xkcd:rust',lw=1)\n",
    "    for ID, tracks in t90.groupby('Track_ID'):\n",
    "            t90, =plt.plot(tracks['x'], tracks['y'],color = 'xkcd:pine green',lw=1)\n",
    "    for ID, tracks in t65.groupby('Track_ID'):\n",
    "            t65, =plt.plot(tracks['x'], tracks['y'],color = 'xkcd:salmon',lw=1)\n",
    "    for ID, tracks in t50.groupby('Track_ID'):\n",
    "            t50, =plt.plot(tracks['x'], tracks['y'],color = 'xkcd:sky blue',lw=1)\n",
    "    for ID, tracks in t35.groupby('Track_ID'):\n",
    "            t35, = plt.plot(tracks['x'], tracks['y'],color = 'xkcd:sage',lw=1)\n",
    "    for ID, tracks in t20.groupby('Track_ID'):\n",
    "            t20, = plt.plot(tracks['x'], tracks['y'],color = 'xkcd:cobalt',lw=1)\n",
    "    plt.legend(handles = [t125,t90,t65,t50,t35,t20], \n",
    "               labels = [\"90 - 125 mins\",\"65 - 90 mins\",\n",
    "               \"50 - 65 mins\",\"35 - 50 mins\",\n",
    "               \"20 - 35 mins \",\"0 - 20 mins\"],title = \"Time Bins\", loc = [1,0.5])\n",
    "    plt.xlabel(\"X-distance ($\\\\mu m$\")\n",
    "    plt.ylabel(\"Y-distance ($\\\\mu m$)\")\n",
    "    plt.title(\"Time binning for immune cell trajectories\")\n",
    "    plt.figure(figsize=(8, 6), dpi=80)\n",
    "    plt.tight_layout()"
   ]
  },
  {
   "cell_type": "code",
   "execution_count": 20,
   "metadata": {},
   "outputs": [],
   "source": [
    "# Here we plot the spatial bins of the trajectory data \n",
    "def plotxy_space_bins(dataframe): \n",
    "    trajectory = dataframe\n",
    "    s25 = trajectory[(trajectory['r'] >= 0)  & (trajectory['r'] <= 70)]\n",
    "    s50 = trajectory[(trajectory['r'] >= 70)  & (trajectory['r'] <= 140)]\n",
    "    s75 = trajectory[(trajectory['r'] >= 140)  & (trajectory['r'] <= 250)]\n",
    "    s100 = trajectory[(trajectory['r'] >= 250)  & (trajectory['r'] <= 360)]\n",
    "    s125 = trajectory[(trajectory['r'] >= 360)  & (trajectory['r'] <= 500)]\n",
    "\n",
    "    fig, ax = plt.subplots(1,1,figsize=(5,5),sharex=True)\n",
    "\n",
    "    for ID, tracks in s125.groupby('Track_ID'):\n",
    "            s125, =plt.plot(tracks['x'], tracks['y'],color = 'xkcd:rust',lw=1)\n",
    "    for ID, tracks in s100.groupby('Track_ID'):\n",
    "            s100, =plt.plot(tracks['x'], tracks['y'],color = 'xkcd:pine green',lw=1)\n",
    "    for ID, tracks in s75.groupby('Track_ID'):\n",
    "            s75, =plt.plot(tracks['x'], tracks['y'],color = 'xkcd:salmon',lw=1)\n",
    "    for ID, tracks in s50.groupby('Track_ID'):\n",
    "            s50, =plt.plot(tracks['x'], tracks['y'],color = 'xkcd:sky blue',lw=1)\n",
    "    for ID, tracks in s25.groupby('Track_ID'):\n",
    "            s25, = plt.plot(tracks['x'], tracks['y'],color = 'xkcd:sage',lw=1)\n",
    "    plt.legend(handles = [s125,s100,s75,s50,s25], \n",
    "               labels = [\"360 - 500$\\\\mu m$\",\"250 - 360$\\\\mu m$\",\n",
    "               \"140 - 250$\\\\mu m$\",\"70 - 140$\\\\mu m$\",\n",
    "               \"0 - 70$\\\\mu m$\"],title = \"Spatial Bins\", loc = [1,0.5])\n",
    "    plt.xlabel(\"X-distance ($\\\\mu m$)\")\n",
    "    plt.ylabel(\"Y-distance ($\\\\mu m$)\")\n",
    "    plt.title(\"Spatial binning for immune cell trajectories\")\n",
    "    plt.tight_layout()"
   ]
  },
  {
   "cell_type": "markdown",
   "metadata": {},
   "source": [
    "## Random walk inference \n",
    "\n",
    "These two functions (space_slice and time_slice), slice the dataframe into temporal and spatial binning for processing. Here we use the time and space bins which are defined in the Weavers et al paper. We create a list of lists which is split into the time and space bins, and then run through the random walk inference\n",
    "\n",
    "N.B. I've ignored the last two time bins due to the fact that there wasn't enough tracks populating them to run the inference on "
   ]
  },
  {
   "cell_type": "code",
   "execution_count": 23,
   "metadata": {},
   "outputs": [
    {
     "ename": "NameError",
     "evalue": "name 'space' is not defined",
     "output_type": "error",
     "traceback": [
      "\u001b[0;31m---------------------------------------------------------------------------\u001b[0m",
      "\u001b[0;31mNameError\u001b[0m                                 Traceback (most recent call last)",
      "\u001b[0;32m<ipython-input-23-efe2fdb99512>\u001b[0m in \u001b[0;36m<module>\u001b[0;34m\u001b[0m\n\u001b[1;32m     20\u001b[0m \u001b[0;34m\u001b[0m\u001b[0m\n\u001b[1;32m     21\u001b[0m \u001b[0mdistance\u001b[0m \u001b[0;34m=\u001b[0m \u001b[0mspace_slice\u001b[0m\u001b[0;34m(\u001b[0m\u001b[0mtrajectory\u001b[0m\u001b[0;34m)\u001b[0m\u001b[0;34m\u001b[0m\u001b[0;34m\u001b[0m\u001b[0m\n\u001b[0;32m---> 22\u001b[0;31m \u001b[0mtime_space_bins\u001b[0m \u001b[0;34m=\u001b[0m \u001b[0mlist\u001b[0m\u001b[0;34m(\u001b[0m\u001b[0mmap\u001b[0m\u001b[0;34m(\u001b[0m\u001b[0mtime_slice\u001b[0m\u001b[0;34m,\u001b[0m\u001b[0mdistance\u001b[0m\u001b[0;34m)\u001b[0m\u001b[0;34m)\u001b[0m\u001b[0;34m\u001b[0m\u001b[0;34m\u001b[0m\u001b[0m\n\u001b[0m\u001b[1;32m     23\u001b[0m \u001b[0;34m\u001b[0m\u001b[0m\n\u001b[1;32m     24\u001b[0m \u001b[0;34m\u001b[0m\u001b[0m\n",
      "\u001b[0;32m<ipython-input-23-efe2fdb99512>\u001b[0m in \u001b[0;36mtime_slice\u001b[0;34m(space_bin)\u001b[0m\n\u001b[1;32m      9\u001b[0m \u001b[0;34m\u001b[0m\u001b[0m\n\u001b[1;32m     10\u001b[0m \u001b[0;32mdef\u001b[0m \u001b[0mtime_slice\u001b[0m\u001b[0;34m(\u001b[0m\u001b[0mspace_bin\u001b[0m\u001b[0;34m)\u001b[0m\u001b[0;34m:\u001b[0m \u001b[0;31m#Could be confusing\u001b[0m\u001b[0;34m\u001b[0m\u001b[0;34m\u001b[0m\u001b[0m\n\u001b[0;32m---> 11\u001b[0;31m     \u001b[0mt20\u001b[0m \u001b[0;34m=\u001b[0m \u001b[0mspace\u001b[0m\u001b[0;34m[\u001b[0m\u001b[0;34m(\u001b[0m\u001b[0mspace\u001b[0m\u001b[0;34m[\u001b[0m\u001b[0;34m't'\u001b[0m\u001b[0;34m]\u001b[0m \u001b[0;34m>=\u001b[0m \u001b[0;36m0\u001b[0m\u001b[0;34m)\u001b[0m \u001b[0;34m&\u001b[0m \u001b[0;34m(\u001b[0m\u001b[0mspace\u001b[0m\u001b[0;34m[\u001b[0m\u001b[0;34m't'\u001b[0m\u001b[0;34m]\u001b[0m \u001b[0;34m<=\u001b[0m \u001b[0;34m(\u001b[0m\u001b[0;36m20\u001b[0m \u001b[0;34m*\u001b[0m \u001b[0;36m60\u001b[0m\u001b[0;34m)\u001b[0m\u001b[0;34m)\u001b[0m\u001b[0;34m]\u001b[0m\u001b[0;34m\u001b[0m\u001b[0;34m\u001b[0m\u001b[0m\n\u001b[0m\u001b[1;32m     12\u001b[0m     \u001b[0mt35\u001b[0m \u001b[0;34m=\u001b[0m \u001b[0mspace\u001b[0m\u001b[0;34m[\u001b[0m\u001b[0;34m(\u001b[0m\u001b[0mspace\u001b[0m\u001b[0;34m[\u001b[0m\u001b[0;34m't'\u001b[0m\u001b[0;34m]\u001b[0m \u001b[0;34m>=\u001b[0m \u001b[0;34m(\u001b[0m\u001b[0;36m20\u001b[0m \u001b[0;34m*\u001b[0m \u001b[0;36m60\u001b[0m\u001b[0;34m)\u001b[0m\u001b[0;34m)\u001b[0m \u001b[0;34m&\u001b[0m \u001b[0;34m(\u001b[0m\u001b[0mspace\u001b[0m\u001b[0;34m[\u001b[0m\u001b[0;34m't'\u001b[0m\u001b[0;34m]\u001b[0m \u001b[0;34m<=\u001b[0m \u001b[0;34m(\u001b[0m\u001b[0;36m35\u001b[0m \u001b[0;34m*\u001b[0m \u001b[0;36m60\u001b[0m\u001b[0;34m)\u001b[0m\u001b[0;34m)\u001b[0m\u001b[0;34m]\u001b[0m\u001b[0;34m\u001b[0m\u001b[0;34m\u001b[0m\u001b[0m\n\u001b[1;32m     13\u001b[0m     \u001b[0mt50\u001b[0m \u001b[0;34m=\u001b[0m \u001b[0mspace\u001b[0m\u001b[0;34m[\u001b[0m\u001b[0;34m(\u001b[0m\u001b[0mspace\u001b[0m\u001b[0;34m[\u001b[0m\u001b[0;34m't'\u001b[0m\u001b[0;34m]\u001b[0m \u001b[0;34m>=\u001b[0m \u001b[0;34m(\u001b[0m\u001b[0;36m35\u001b[0m \u001b[0;34m*\u001b[0m \u001b[0;36m60\u001b[0m\u001b[0;34m)\u001b[0m\u001b[0;34m)\u001b[0m \u001b[0;34m&\u001b[0m \u001b[0;34m(\u001b[0m\u001b[0mspace\u001b[0m\u001b[0;34m[\u001b[0m\u001b[0;34m't'\u001b[0m\u001b[0;34m]\u001b[0m \u001b[0;34m<=\u001b[0m \u001b[0;34m(\u001b[0m\u001b[0;36m50\u001b[0m \u001b[0;34m*\u001b[0m \u001b[0;36m60\u001b[0m\u001b[0;34m)\u001b[0m\u001b[0;34m)\u001b[0m\u001b[0;34m]\u001b[0m\u001b[0;34m\u001b[0m\u001b[0;34m\u001b[0m\u001b[0m\n",
      "\u001b[0;31mNameError\u001b[0m: name 'space' is not defined"
     ]
    }
   ],
   "source": [
    "def spatial_temporal_binning(dataframe):\n",
    "    def space_binning(trajectory):\n",
    "        s70 = trajectory[(trajectory['r'] >= 0) & (trajectory['r'] <= 70)]\n",
    "        s140 = trajectory[(trajectory['r'] >= 70) & (trajectory['r'] <= 140)]\n",
    "        s250 = trajectory[(trajectory['r'] >= 140) & (trajectory['r'] <= 250)]\n",
    "        s360 = trajectory[(trajectory['r'] >= 250) & (trajectory['r'] <= 360)]\n",
    "        s500 = trajectory[(trajectory['r'] >= 360) & (trajectory['r'] <= 500)]\n",
    "        return [s70, s140, s250, s360, s500]\n",
    "\n",
    "\n",
    "    def time_binning(space_bin):\n",
    "        t20 = space[(space['t'] >= 0) & (space['t'] <= (20 * 60))]\n",
    "        t35 = space[(space['t'] >= (20 * 60)) & (space['t'] <= (35 * 60))]\n",
    "        t50 = space[(space['t'] >= (35 * 60)) & (space['t'] <= (50 * 60))]\n",
    "        t65 = space[(space['t'] >= (50 * 60)) & (space['t'] <= (65 * 60))]\n",
    "        t90 = space[(space['t'] >= (65 * 60)) & (space['t'] <= (90 * 60))]\n",
    "        t125 = space[(space['t'] >= (90 * 60)) & (space['t'] <= (125 * 60))]\n",
    "\n",
    "        return [t20, t35, t50, t65, t90, t125]\n",
    "\n",
    "\n",
    "    distance = space_binning(trajectory)\n",
    "    time_space_bins = list(map(time_binning,distance))\n",
    "    \n",
    "    return time_space_bins\n",
    "\n",
    "\n",
    "\n"
   ]
  },
  {
   "cell_type": "code",
   "execution_count": 21,
   "metadata": {
    "scrolled": false
   },
   "outputs": [
    {
     "name": "stderr",
     "output_type": "stream",
     "text": [
      "  1%|          | 7/1000 [00:00<00:15, 62.45it/s]"
     ]
    },
    {
     "name": "stdout",
     "output_type": "stream",
     "text": [
      "analysing bin 1/20\n",
      "Running sampler: \n"
     ]
    },
    {
     "name": "stderr",
     "output_type": "stream",
     "text": [
      "100%|██████████| 1000/1000 [00:12<00:00, 82.82it/s]\n",
      "/Users/danieltudor/opt/anaconda3/lib/python3.8/site-packages/numpy/core/_asarray.py:136: VisibleDeprecationWarning: Creating an ndarray from ragged nested sequences (which is a list-or-tuple of lists-or-tuples-or ndarrays with different lengths or shapes) is deprecated. If you meant to do this, you must specify 'dtype=object' when creating the ndarray\n",
      "  return array(a, dtype, copy=False, order=order, subok=True)\n",
      "  1%|          | 7/1000 [00:00<00:15, 63.08it/s]"
     ]
    },
    {
     "name": "stdout",
     "output_type": "stream",
     "text": [
      "analysing bin 2/20\n",
      "Running sampler: \n"
     ]
    },
    {
     "name": "stderr",
     "output_type": "stream",
     "text": [
      "100%|██████████| 1000/1000 [00:12<00:00, 80.02it/s]\n",
      "  1%|          | 6/1000 [00:00<00:17, 58.15it/s]"
     ]
    },
    {
     "name": "stdout",
     "output_type": "stream",
     "text": [
      "analysing bin 3/20\n",
      "Running sampler: \n"
     ]
    },
    {
     "name": "stderr",
     "output_type": "stream",
     "text": [
      "100%|██████████| 1000/1000 [00:14<00:00, 67.87it/s]\n",
      "  1%|          | 7/1000 [00:00<00:15, 64.42it/s]"
     ]
    },
    {
     "name": "stdout",
     "output_type": "stream",
     "text": [
      "analysing bin 4/20\n",
      "Running sampler: \n"
     ]
    },
    {
     "name": "stderr",
     "output_type": "stream",
     "text": [
      "100%|██████████| 1000/1000 [00:12<00:00, 79.73it/s]\n",
      "  1%|          | 9/1000 [00:00<00:11, 83.43it/s]"
     ]
    },
    {
     "name": "stdout",
     "output_type": "stream",
     "text": [
      "analysing bin 5/20\n",
      "Running sampler: \n"
     ]
    },
    {
     "name": "stderr",
     "output_type": "stream",
     "text": [
      "100%|██████████| 1000/1000 [00:11<00:00, 89.76it/s]\n",
      "  1%|          | 10/1000 [00:00<00:10, 91.35it/s]"
     ]
    },
    {
     "name": "stdout",
     "output_type": "stream",
     "text": [
      "analysing bin 6/20\n",
      "Running sampler: \n"
     ]
    },
    {
     "name": "stderr",
     "output_type": "stream",
     "text": [
      "  2%|▏         | 19/1000 [00:00<00:10, 90.12it/s]/Users/danieltudor/Documents/Wood group/ImmuneCellMigrationAnalysis/inference/walker_inference.py:226: RuntimeWarning: divide by zero encountered in log\n",
      "  log_p_0 = np.log(p_0)\n",
      "100%|██████████| 1000/1000 [00:11<00:00, 87.59it/s]\n",
      "  1%|          | 9/1000 [00:00<00:12, 81.59it/s]"
     ]
    },
    {
     "name": "stdout",
     "output_type": "stream",
     "text": [
      "analysing bin 7/20\n",
      "Running sampler: \n"
     ]
    },
    {
     "name": "stderr",
     "output_type": "stream",
     "text": [
      "100%|██████████| 1000/1000 [00:08<00:00, 114.22it/s]\n",
      "  1%|▏         | 13/1000 [00:00<00:07, 128.06it/s]"
     ]
    },
    {
     "name": "stdout",
     "output_type": "stream",
     "text": [
      "analysing bin 8/20\n",
      "Running sampler: \n"
     ]
    },
    {
     "name": "stderr",
     "output_type": "stream",
     "text": [
      "100%|██████████| 1000/1000 [00:09<00:00, 100.63it/s]\n",
      "  1%|          | 6/1000 [00:00<00:17, 58.16it/s]"
     ]
    },
    {
     "name": "stdout",
     "output_type": "stream",
     "text": [
      "analysing bin 9/20\n",
      "Running sampler: \n"
     ]
    },
    {
     "name": "stderr",
     "output_type": "stream",
     "text": [
      "100%|██████████| 1000/1000 [00:14<00:00, 69.19it/s]\n",
      "  1%|          | 8/1000 [00:00<00:13, 71.11it/s]"
     ]
    },
    {
     "name": "stdout",
     "output_type": "stream",
     "text": [
      "analysing bin 10/20\n",
      "Running sampler: \n"
     ]
    },
    {
     "name": "stderr",
     "output_type": "stream",
     "text": [
      "100%|██████████| 1000/1000 [00:10<00:00, 96.84it/s]\n",
      "  1%|          | 10/1000 [00:00<00:10, 97.19it/s]"
     ]
    },
    {
     "name": "stdout",
     "output_type": "stream",
     "text": [
      "analysing bin 11/20\n",
      "Running sampler: \n"
     ]
    },
    {
     "name": "stderr",
     "output_type": "stream",
     "text": [
      "100%|██████████| 1000/1000 [00:07<00:00, 141.81it/s]\n",
      "  1%|          | 12/1000 [00:00<00:08, 114.08it/s]"
     ]
    },
    {
     "name": "stdout",
     "output_type": "stream",
     "text": [
      "analysing bin 12/20\n",
      "Running sampler: \n"
     ]
    },
    {
     "name": "stderr",
     "output_type": "stream",
     "text": [
      "100%|██████████| 1000/1000 [00:05<00:00, 196.38it/s]\n",
      "  1%|          | 8/1000 [00:00<00:13, 74.13it/s]"
     ]
    },
    {
     "name": "stdout",
     "output_type": "stream",
     "text": [
      "analysing bin 13/20\n",
      "Running sampler: \n"
     ]
    },
    {
     "name": "stderr",
     "output_type": "stream",
     "text": [
      "100%|██████████| 1000/1000 [00:08<00:00, 124.02it/s]\n",
      "  1%|          | 7/1000 [00:00<00:14, 66.65it/s]"
     ]
    },
    {
     "name": "stdout",
     "output_type": "stream",
     "text": [
      "analysing bin 14/20\n",
      "Running sampler: \n"
     ]
    },
    {
     "name": "stderr",
     "output_type": "stream",
     "text": [
      "100%|██████████| 1000/1000 [00:09<00:00, 103.32it/s]\n",
      "  1%|          | 7/1000 [00:00<00:14, 67.28it/s]"
     ]
    },
    {
     "name": "stdout",
     "output_type": "stream",
     "text": [
      "analysing bin 15/20\n",
      "Running sampler: \n"
     ]
    },
    {
     "name": "stderr",
     "output_type": "stream",
     "text": [
      "100%|██████████| 1000/1000 [00:07<00:00, 126.32it/s]\n",
      "  1%|          | 8/1000 [00:00<00:13, 71.95it/s]"
     ]
    },
    {
     "name": "stdout",
     "output_type": "stream",
     "text": [
      "analysing bin 16/20\n",
      "Running sampler: \n"
     ]
    },
    {
     "name": "stderr",
     "output_type": "stream",
     "text": [
      "100%|██████████| 1000/1000 [00:09<00:00, 104.85it/s]\n",
      "  1%|          | 10/1000 [00:00<00:10, 95.55it/s]"
     ]
    },
    {
     "name": "stdout",
     "output_type": "stream",
     "text": [
      "analysing bin 17/20\n",
      "Running sampler: \n"
     ]
    },
    {
     "name": "stderr",
     "output_type": "stream",
     "text": [
      "100%|██████████| 1000/1000 [00:06<00:00, 156.97it/s]\n",
      "  1%|          | 8/1000 [00:00<00:12, 78.22it/s]"
     ]
    },
    {
     "name": "stdout",
     "output_type": "stream",
     "text": [
      "analysing bin 18/20\n",
      "Running sampler: \n"
     ]
    },
    {
     "name": "stderr",
     "output_type": "stream",
     "text": [
      "100%|██████████| 1000/1000 [00:06<00:00, 158.35it/s]\n",
      "  1%|          | 11/1000 [00:00<00:09, 108.07it/s]"
     ]
    },
    {
     "name": "stdout",
     "output_type": "stream",
     "text": [
      "analysing bin 19/20\n",
      "Running sampler: \n"
     ]
    },
    {
     "name": "stderr",
     "output_type": "stream",
     "text": [
      "100%|██████████| 1000/1000 [00:05<00:00, 170.52it/s]\n",
      "  1%|          | 11/1000 [00:00<00:09, 102.03it/s]"
     ]
    },
    {
     "name": "stdout",
     "output_type": "stream",
     "text": [
      "analysing bin 20/20\n",
      "Running sampler: \n"
     ]
    },
    {
     "name": "stderr",
     "output_type": "stream",
     "text": [
      "100%|██████████| 1000/1000 [00:05<00:00, 168.71it/s]\n"
     ]
    }
   ],
   "source": [
    "time_space_bins = list(map(time_slice,distance))\n",
    "\n",
    "\n",
    "source = PointSource(position=np.array([0, 0])) # Source is a position at 0,0 due to readjustment of tracks earlier\n",
    "NWalkers = 40 # 100 walkers and 1000 iterations seem to give the best convergence of the emcee \n",
    "NIters = 1000\n",
    "t = 0\n",
    "total_bins = (len(distance) * len(s_distance[0])) # total number of bins to run the inference on \n",
    "for i in range(len(distance)):\n",
    "    for j in range(len(s_distance[0])):\n",
    "        t += 1  # Tracks the number of bins\n",
    "        print('analysing bin {}/{}'.format(t,total_bins))  # to give an overall sense of progress\n",
    "        inferer = BiasedPersistentInferer(\n",
    "            prepare_paths([paths[['x', 'y']].values for id, paths in s_distance[i][j].groupby('Track_ID')],\n",
    "                          include_t=False), source) # prepares the data for running the inference \n",
    "        inf_out = inferer.ensembleinfer(NWalkers, NIters) # calls the emcee inferer \n",
    "        np.save(\n",
    "            '../data/WalkerData/WeaversData/WeaversL1{}{}'.format(\n",
    "                i, j), inf_out) # Saves to local data file "
   ]
  },
  {
   "cell_type": "markdown",
   "metadata": {},
   "source": [
    "## Random walk plotting \n",
    "\n",
    "This plots the bias, persistence and weighting parameters. The function loadData calls the saved inference numpy array for each time-space bin and removes the burn-in (here called discard). "
   ]
  },
  {
   "cell_type": "code",
   "execution_count": 11,
   "metadata": {},
   "outputs": [
    {
     "data": {
      "image/png": "[encoded data removed]",
      "text/plain": [
       "<Figure size 720x720 with 20 Axes>"
      ]
     },
     "metadata": {
      "needs_background": "light"
     },
     "output_type": "display_data"
    }
   ],
   "source": [
    "Space = [\"0 to 70 $\\mu m$\",\"7- tp 140 $\\mu m$\",\"140 to 250 $\\mu m$\",\"250 to 360 $\\mu m$\",\"360 - 500 $\\mu m$\"]\n",
    "Time = [\"Time = 20 mins\",\"Time = 35 mins\",\"Time = 50 mins\",\"Time =  65 mins\"]\n",
    "\n",
    "\n",
    "\n",
    "def loadData(i, j):\n",
    "    WT = np.load('../data/WalkerData/WeaversData/WeaversL1{}{}.npy'.format(i,j), allow_pickle=True)\n",
    "    samplerWT = WT[0]\n",
    "    WildTypeChain = samplerWT.get_chain(discard=250,thin = 2,flat=True)\n",
    "    return WildTypeChain\n",
    "\n",
    "\n",
    "fig, ax = plt.subplots(5, 4, figsize=(10, 10), sharex=True)\n",
    "fig.suptitle(\"Weavers Data\")\n",
    "for i in range(5):\n",
    "    for j in range(4):\n",
    "        data = loadData(i,j)\n",
    "        WWT = data[:,0]\n",
    "        PWT = data[:,1]\n",
    "        BWT = data[:,2]\n",
    "        ax[i,j].set_ylim([0, 40])\n",
    "        ax[i,j].hist(WWT,label='$WWT$ = {:.2f} $\\pm$ {:.2f}'.format(np.mean(WWT), np.std(WWT)),bins=100,alpha=0.6,density=True)\n",
    "        ax[i,j].hist(PWT,label='$PWT$ = {:.2f} $\\pm$ {:.2f}'.format(np.mean(PWT), np.std(PWT)),bins=100,alpha=0.6,density=True)\n",
    "        ax[i,j].hist(BWT,label='$BWT$ = {:.2f} $\\pm$ {:.2f}'.format(np.mean(BWT), np.std(BWT)),bins=100,alpha=0.6,density=True)\n",
    "\n",
    "        ax[0,j].set_title(Time[j])\n",
    "        ax[i,0].set_ylabel(Space[i], rotation=90, size='small')\n",
    "        ax[i,j].legend(prop={'size': 6})\n",
    "plt.savefig('../Images/PosterImages/WalkerPoster/Weavers_loc1.pdf')"
   ]
  },
  {
   "cell_type": "markdown",
   "metadata": {},
   "source": [
    "Here we use the functions bias and ob_bias to extract our bias and weight each time bin and then calculate the mean and standard deviations."
   ]
  },
  {
   "cell_type": "code",
   "execution_count": 12,
   "metadata": {},
   "outputs": [],
   "source": [
    "def Bias(i,j):\n",
    "    DataFile1 = loadData(i,j)\n",
    "    W1 =  DataFile1[:,0]\n",
    "    B1 =  DataFile1[:,2]\n",
    "    OBWT1 = (W1 * B1)\n",
    "    return OBWT1\n",
    "\n",
    "def OB_bias(val):\n",
    "    OBWT1 = []\n",
    "    for i in range(5):\n",
    "            WT1 =  Bias(i,val)\n",
    "            OBWT1.append(WT1)\n",
    "    means = []\n",
    "    std = []\n",
    "    for i in range(5):\n",
    "        means.append(np.mean(OBWT1[i]))\n",
    "        std.append(np.std(OBWT1[i]))\n",
    "    return means,std"
   ]
  },
  {
   "cell_type": "code",
   "execution_count": 13,
   "metadata": {},
   "outputs": [
    {
     "data": {
      "text/plain": [
       "Text(0.5, 23.999999999999957, 'Distance $\\\\mu$m')"
      ]
     },
     "execution_count": 13,
     "metadata": {},
     "output_type": "execute_result"
    },
    {
     "data": {
      "image/png": "[encoded data removed]",
      "text/plain": [
       "<Figure size 360x360 with 4 Axes>"
      ]
     },
     "metadata": {
      "needs_background": "light"
     },
     "output_type": "display_data"
    }
   ],
   "source": [
    "fig, ax = plt.subplots(4,1,figsize=(5,5),sharex=True)\n",
    "colors = ['k', 'r','b','g']\n",
    "Time = [\"0-20\",\"20-35\",\"35-50\",\"50-65\"]\n",
    "fig.suptitle(\"Observed Bias\",fontsize=16)\n",
    "\n",
    "for i in range(4):\n",
    "    OB = OB_bias(i)\n",
    "    Mean = OB[0]\n",
    "    Std = OB[1]\n",
    "    x = [75,140,250,360,500]\n",
    "    ax[i].errorbar(x,Mean,yerr = Std,fmt='o--',capsize=2,color = colors[i])\n",
    "    ax[i].set_ylabel(Time[i], rotation=90, fontsize = 10)\n",
    "    ax[i].set_ylim(0,0.2)\n",
    "fig.tight_layout(rect=[0, 0.03, 1, 0.95])\n",
    "fig.text(0.01,0.5, \"Time bins (minutes)\", ha=\"center\", va=\"center\", fontsize=12,rotation=90)\n",
    "plt.xlabel(\"Distance $\\mu$m\", fontsize=15)\n",
    "\n"
   ]
  },
  {
   "cell_type": "markdown",
   "metadata": {},
   "source": [
    "## Attractant inference \n",
    "\n",
    "The bias_values calculates the observed bias mean and standard deviation for each time and space bin. This is called within the for loop which populates a dictionary for each time-space bin. The attractant inferer is then called and the final inference numpy array is saved to local data file. "
   ]
  },
  {
   "cell_type": "code",
   "execution_count": 9,
   "metadata": {},
   "outputs": [
    {
     "name": "stderr",
     "output_type": "stream",
     "text": [
      "  0%|          | 2/5000 [00:00<04:24, 18.88it/s]"
     ]
    },
    {
     "name": "stdout",
     "output_type": "stream",
     "text": [
      "Running sampler: \n"
     ]
    },
    {
     "name": "stderr",
     "output_type": "stream",
     "text": [
      "100%|██████████| 5000/5000 [03:14<00:00, 25.73it/s]\n",
      "/Users/danieltudor/opt/anaconda3/lib/python3.8/site-packages/numpy/core/_asarray.py:136: VisibleDeprecationWarning: Creating an ndarray from ragged nested sequences (which is a list-or-tuple of lists-or-tuples-or ndarrays with different lengths or shapes) is deprecated. If you meant to do this, you must specify 'dtype=object' when creating the ndarray\n",
      "  return array(a, dtype, copy=False, order=order, subok=True)\n"
     ]
    }
   ],
   "source": [
    "n_walkers = 50\n",
    "n_iter = 5000\n",
    "\n",
    "\n",
    "distance = [35, 105, 195, 305]\n",
    "time = [10, 28, 43, 58, 110]\n",
    "ob_readings = {}\n",
    "\n",
    "# This function reads in previously run data from walker inference pipeline, and outputs the observed bias mean and std\\\n",
    "# for the dataframe. The inputs are x,y which correspond to the file formats\n",
    "\n",
    "\n",
    "def bias_values(i, j): # Change to loading bias values\n",
    "    input_data = np.load('../data/WalkerData/WeaversData/WeaversL1{}{}.npy'.format(i,j), allow_pickle=True)\n",
    "    sampler = input_data[0]  # Extracts the posterior chain array from the input_data array\n",
    "    # Removes the burn-in, thins the posterior data and flattens the walkers into a single array\n",
    "    input_data = sampler.get_chain(discard=250, thin=2, flat=True)\n",
    "    w = input_data[:, 0]  # The weighting parameter from the walker posterior array\n",
    "    b = input_data[:, 2]  # The bias parameter from the walker posterior array\n",
    "    obwt = (w * b)  # The observed bias parameter from the walker posterior array\n",
    "    mean = np.mean(obwt)\n",
    "    std = np.std(obwt)\n",
    "    return mean, std\n",
    "\n",
    "\"\"\"\n",
    "Here we define a nested for loop which populates the dictionary ob_readings with the mean and std of the current \n",
    "observed bias. This is then ready to be read into our attractant inference as the data for the inference pipeline. \n",
    "\"\"\"\n",
    "for i in range(len(time)):\n",
    "    for j in range(len(distance)):\n",
    "        ObBias = bias_values(j, i)\n",
    "        ob_mean = ObBias[0]\n",
    "        ob_std = ObBias[1]\n",
    "        ob_readings[(distance[j], time[i])] = (ob_mean, ob_std)\n",
    "#Use enumerate, zip, dict comp \n",
    "\n",
    "# Sets the wound location\n",
    "wound = PointWound(position=np.array([0, 0]))\n",
    "inferer = AttractantInferer(ob_readings, wound=wound, t_units='minutes', dynamics = 0)\n",
    "# Emcee (Ensemble Monte Carlo)\n",
    "Ensemble_out = inferer.ensembleinfer(n_walkers, n_iter)\n",
    "# This saves the Emcee output to the data folder\n",
    "Post_Save_Emcee = np.save('../data/WalkerData/Weavers_data', Ensemble_out)\n"
   ]
  },
  {
   "cell_type": "code",
   "execution_count": 12,
   "metadata": {},
   "outputs": [
    {
     "data": {
      "image/png": "[encoded data removed]",
      "text/plain": [
       "<Figure size 720x288 with 7 Axes>"
      ]
     },
     "metadata": {
      "needs_background": "light"
     },
     "output_type": "display_data"
    }
   ],
   "source": [
    "# Plotting of inferred attractant parameters \n",
    "\n",
    "\n",
    "sampler =Ensemble_out[0]\n",
    "Att_out = sampler.get_chain(discard=2500,thin = 1,flat=True)\n",
    "fig, axes = plt.subplots(nrows=1, ncols=7, figsize=(10, 4), sharex='col')\n",
    "cols = plt.rcParams['axes.prop_cycle'].by_key()['color']\n",
    "names = ['$q$', '$D$', '$\\\\tau$','$R_0$', '$\\kappa_d$', '$m$', '$b_0$']\n",
    "\n",
    "for j in range(7):\n",
    "        axes[j].set_title(\"{}\".format(names[j]))\n",
    "        axes[j].set_yticks([])\n",
    "        axes[j].hist(Att_out[:, j], bins=50, color=cols[j], alpha=0.6, density=True)\n",
    "\n"
   ]
  },
  {
   "cell_type": "code",
   "execution_count": 11,
   "metadata": {},
   "outputs": [
    {
     "data": {
      "text/plain": [
       "[<matplotlib.lines.Line2D at 0x7fd8d9bda070>]"
      ]
     },
     "execution_count": 11,
     "metadata": {},
     "output_type": "execute_result"
    },
    {
     "data": {
      "image/png": "[encoded data removed]",
      "text/plain": [
       "<Figure size 432x288 with 1 Axes>"
      ]
     },
     "metadata": {
      "needs_background": "light"
     },
     "output_type": "display_data"
    }
   ],
   "source": [
    "plt.plot(Att_out[:,1])"
   ]
  },
  {
   "cell_type": "code",
   "execution_count": null,
   "metadata": {},
   "outputs": [],
   "source": []
  }
 ],
 "metadata": {
  "kernelspec": {
   "display_name": "Python 3",
   "language": "python",
   "name": "python3"
  },
  "language_info": {
   "codemirror_mode": {
    "name": "ipython",
    "version": 3
   },
   "file_extension": ".py",
   "mimetype": "text/x-python",
   "name": "python",
   "nbconvert_exporter": "python",
   "pygments_lexer": "ipython3",
   "version": "3.8.5"
  }
 },
 "nbformat": 4,
 "nbformat_minor": 4
}
